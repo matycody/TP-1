{
 "cells": [
  {
   "cell_type": "markdown",
   "id": "d2380f9e",
   "metadata": {},
   "source": [
    "# Trabajo Práctico 1 - Inferencia Estadística y Reconocimiento de Patrones\n",
    "\n",
    "## 1. Introducción\n",
    "\n",
    "En este trabajo se analizará el conjunto de datos `winequality-red.csv`, el cual contiene información sobre características fisicoquímicas y sensoriales de vinos tintos de Portugal. El objetivo principal es predecir la variable `quality` (calidad del vino) utilizando distintos métodos de regresión y clasificación, y comparar su desempeño.\n",
    "\n",
    "## 2. Objetivo\n",
    "\n",
    "El objetivo es aplicar y comparar diferentes técnicas estadísticas y de machine learning para predecir la calidad del vino, evaluando tanto modelos de regresión como de clasificación, y seleccionar el método más adecuado para el conjunto de datos.\n",
    "\n",
    "## 3. Descripción del dataset\n",
    "\n",
    "El dataset contiene las siguientes variables:\n",
    "- `fixed.acidity`\n",
    "- `volatile.acidity`\n",
    "- `citric.acid`\n",
    "- `residual.sugar`\n",
    "- `chlorides`\n",
    "- `free.sulfur.dioxide`\n",
    "- `total.sulfur.dioxide`\n",
    "- `density`\n",
    "- `pH`\n",
    "- `sulphates`\n",
    "- `alcohol`\n",
    "- `quality` (variable respuesta)\n",
    "\n",
    "A continuación se realizará un análisis exploratorio de los datos y se implementarán los modelos requeridos."
   ]
  },
  {
   "cell_type": "code",
   "execution_count": null,
   "id": "0d9bfc07",
   "metadata": {},
   "outputs": [],
   "source": []
  },
  {
   "cell_type": "markdown",
   "id": "f98f965d",
   "metadata": {},
   "source": [
    "## 4. Metodología.\n",
    "\n",
    "En este trabajo se aplicarán y compararán distintos métodos de regresión y clasificación para predecir la variable `quality`.\n",
    "\n",
    "### 4.1 Métodos de regresión\n",
    "- **Regresión lineal múltiple**: Permite modelar la relación lineal entre la variable respuesta y un conjunto de variables predictoras.\n",
    "- **Ridge**: Variante de la regresión lineal que incorpora regularización L2 para evitar el sobreajuste.\n",
    "- **LASSO**: Similar a Ridge, pero utiliza regularización L1, lo que permite realizar selección de variables.\n",
    "\n",
    "### 4.2 Métodos de clasificación\n",
    "- **Regresión logística multinomial**: Extensión de la regresión logística para variables respuesta con más de dos categorías.\n",
    "- **K vecinos más cercanos (KNN)**: Clasifica una observación según la mayoría de sus vecinos más cercanos en el espacio de variables.\n",
    "- **Bayes ingenuo**: Clasificador probabilístico basado en el teorema de Bayes y la independencia entre variables. \n",
    "- **LDA (Análisis discriminante lineal)**: Busca una combinación lineal de variables que mejor separe las clases.\n",
    "- **QDA (Análisis discriminante cuadrático)**: Similar a LDA, pero permite matrices de covarianza diferentes para cada clase.\n",
    "\n",
    "Para cada método se realizará:\n",
    "- Ajuste del modelo y selección de parámetros (cuando corresponda, mediante validación cruzada).\n",
    "- Evaluación de métricas de desempeño.\n",
    "- Comparación de resultados para seleccionar el mejor modelo de regresión y el mejor de clasificación.\n",
    "\n",
    "## 5. Análisis exploratorio de datos\n",
    "\n",
    "En esta sección se realizará una exploración inicial del dataset para comprender la distribución de las variables, detectar posibles valores atípicos y analizar la relación entre las variables predictoras y la variable respuesta `quality`.\n",
    "\n",
    "Se incluirán:\n",
    "- Estadísticas descriptivas de las variables.\n",
    "- Visualizaciones como histogramas, boxplots y gráficos de correlación.\n",
    "- Observaciones relevantes sobre la estructura y características de los datos."
   ]
  }
 ],
 "metadata": {
  "kernelspec": {
   "display_name": "Python 3",
   "language": "python",
   "name": "python3"
  },
  "language_info": {
   "codemirror_mode": {
    "name": "ipython",
    "version": 3
   },
   "file_extension": ".py",
   "mimetype": "text/x-python",
   "name": "python",
   "nbconvert_exporter": "python",
   "pygments_lexer": "ipython3",
   "version": "3.13.2"
  }
 },
 "nbformat": 4,
 "nbformat_minor": 5
}
